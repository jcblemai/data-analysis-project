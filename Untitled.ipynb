{
 "cells": [
  {
   "cell_type": "code",
   "execution_count": 1,
   "metadata": {},
   "outputs": [],
   "source": [
    "\n",
    "\n",
    "%matplotlib inline\n",
    "\n",
    "from __future__ import print_function\n",
    "from statsmodels.compat import urlopen\n",
    "import numpy as np\n",
    "np.set_printoptions(precision=4, suppress=True)\n",
    "import statsmodels.api as sm\n",
    "import pandas as pd\n",
    "pd.set_option(\"display.width\", 100)\n",
    "import matplotlib.pyplot as plt\n",
    "from statsmodels.formula.api import ols\n",
    "from statsmodels.graphics.api import interaction_plot, abline_plot\n",
    "from statsmodels.stats.anova import anova_lm\n",
    "\n",
    "try:\n",
    "    salary_table = pd.read_csv('salary.table')\n",
    "except:  # recent pandas can read URL without urlopen\n",
    "    url = 'http://stats191.stanford.edu/data/salary.table'\n",
    "    fh = urlopen(url)\n",
    "    salary_table = pd.read_table(fh)\n",
    "    salary_table.to_csv('salary.table')\n",
    "\n",
    "E = salary_table.E\n",
    "M = salary_table.M\n",
    "X = salary_table.X\n",
    "S = salary_table.S\n",
    "\n"
   ]
  },
  {
   "cell_type": "code",
   "execution_count": 2,
   "metadata": {},
   "outputs": [
    {
     "data": {
      "image/png": "[encoded data removed]",
      "text/plain": [
       "<matplotlib.figure.Figure at 0x7fc09022c978>"
      ]
     },
     "metadata": {},
     "output_type": "display_data"
    }
   ],
   "source": [
    "\n",
    "\n",
    "plt.figure(figsize=(6,6))\n",
    "symbols = ['D', '^']\n",
    "colors = ['r', 'g', 'blue']\n",
    "factor_groups = salary_table.groupby(['E','M'])\n",
    "for values, group in factor_groups:\n",
    "    i,j = values\n",
    "    plt.scatter(group['X'], group['S'], marker=symbols[j], color=colors[i-1],\n",
    "               s=144)\n",
    "plt.xlabel('Experience');\n",
    "plt.ylabel('Salary');\n",
    "\n"
   ]
  },
  {
   "cell_type": "code",
   "execution_count": 3,
   "metadata": {},
   "outputs": [
    {
     "name": "stdout",
     "output_type": "stream",
     "text": [
      "                            OLS Regression Results                            \n",
      "==============================================================================\n",
      "Dep. Variable:                      S   R-squared:                       0.957\n",
      "Model:                            OLS   Adj. R-squared:                  0.953\n",
      "Method:                 Least Squares   F-statistic:                     226.8\n",
      "Date:                Fri, 13 Jul 2018   Prob (F-statistic):           2.23e-27\n",
      "Time:                        08:53:40   Log-Likelihood:                -381.63\n",
      "No. Observations:                  46   AIC:                             773.3\n",
      "Df Residuals:                      41   BIC:                             782.4\n",
      "Df Model:                           4                                         \n",
      "Covariance Type:            nonrobust                                         \n",
      "==============================================================================\n",
      "                 coef    std err          t      P>|t|      [0.025      0.975]\n",
      "------------------------------------------------------------------------------\n",
      "Intercept   8035.5976    386.689     20.781      0.000    7254.663    8816.532\n",
      "C(E)[T.2]   3144.0352    361.968      8.686      0.000    2413.025    3875.045\n",
      "C(E)[T.3]   2996.2103    411.753      7.277      0.000    2164.659    3827.762\n",
      "C(M)[T.1]   6883.5310    313.919     21.928      0.000    6249.559    7517.503\n",
      "X            546.1840     30.519     17.896      0.000     484.549     607.819\n",
      "==============================================================================\n",
      "Omnibus:                        2.293   Durbin-Watson:                   2.237\n",
      "Prob(Omnibus):                  0.318   Jarque-Bera (JB):                1.362\n",
      "Skew:                          -0.077   Prob(JB):                        0.506\n",
      "Kurtosis:                       2.171   Cond. No.                         33.5\n",
      "==============================================================================\n",
      "\n",
      "Warnings:\n",
      "[1] Standard Errors assume that the covariance matrix of the errors is correctly specified.\n"
     ]
    }
   ],
   "source": [
    "\n",
    "\n",
    "formula = 'S ~ C(E) + C(M) + X'\n",
    "lm = ols(formula, salary_table).fit()\n",
    "print(lm.summary())\n",
    "\n"
   ]
  },
  {
   "cell_type": "code",
   "execution_count": 13,
   "metadata": {},
   "outputs": [
    {
     "data": {
      "text/plain": [
       "array([[    1. ,   712. ,    21. ,   105. ,    82.4, 13566. ,    12.3,\n",
       "        14952. ],\n",
       "       [    1. ,   643. ,    26.5,    97. ,    80.2, 13566. ,    15.3,\n",
       "        17039.5],\n",
       "       [    1. ,   679. ,    28.3,   113. ,    86.3,  9611. ,    13.9,\n",
       "        19215.7],\n",
       "       [    1. ,   801. ,    27.1,   109. ,    80.4,  9483. ,    13.6,\n",
       "        21707.1],\n",
       "       [    1. ,   753. ,    22. ,   115. ,    64.7,  9265. ,    14.6,\n",
       "        16566. ],\n",
       "       [    1. ,   714. ,    24.3,   107. ,    79. ,  9555. ,    13.8,\n",
       "        17350.2],\n",
       "       [    1. ,   920. ,    21.2,   118. ,    72.2,  9611. ,    13.3,\n",
       "        19504. ],\n",
       "       [    1. ,   779. ,    20.5,   114. ,    75.2,  9483. ,    14.5,\n",
       "        15969.5],\n",
       "       [    1. ,   771. ,    23.2,   102. ,    81.1,  9483. ,    14.2,\n",
       "        17887.2],\n",
       "       [    1. ,   724. ,    20.5,   112. ,    80.3, 12656. ,    13.7,\n",
       "        14842. ],\n",
       "       [    1. ,   682. ,    23.8,    96. ,    83. ,  9483. ,    14.6,\n",
       "        16231.6],\n",
       "       [    1. ,   837. ,    22.1,   111. ,    74.5, 12656. ,    11.6,\n",
       "        18497.7],\n",
       "       [    1. ,   599. ,    19.9,   117. ,    83.8,  8298. ,    15.1,\n",
       "        11920.1],\n",
       "       [    1. ,   680. ,    21.5,   121. ,    77.6,  9265. ,    13.7,\n",
       "        14620. ],\n",
       "       [    1. ,   747. ,    22.5,   109. ,    77.9,  8314. ,    14.4,\n",
       "        16807.5],\n",
       "       [    1. ,   982. ,    19.4,   137. ,    65.3,  9483. ,    13.3,\n",
       "        19050.8],\n",
       "       [    1. ,   719. ,    25.9,   109. ,    80.9,  8298. ,    14.9,\n",
       "        18622.1],\n",
       "       [    1. ,   831. ,    18.5,   138. ,    80.2,  9483. ,    14.6,\n",
       "        15373.5],\n",
       "       [    1. ,   858. ,    19.4,   119. ,    84.8, 12656. ,    14.3,\n",
       "        16645.2],\n",
       "       [    1. ,   652. ,    27.2,   108. ,    86.4, 13566. ,    14.6,\n",
       "        17734.4],\n",
       "       [    1. ,   718. ,    23.7,   115. ,    73.5,  9483. ,    15. ,\n",
       "        17016.6],\n",
       "       [    1. ,   787. ,    20.8,   126. ,    74.7,  9483. ,    14.9,\n",
       "        16369.6],\n",
       "       [    1. ,   515. ,    26.8,   106. ,    87.8,  8298. ,    15.3,\n",
       "        13802. ],\n",
       "       [    1. ,   732. ,    23. ,   103. ,    86.6,  9611. ,    13.8,\n",
       "        16836. ],\n",
       "       [    1. ,   783. ,    20.5,   125. ,    78.5,  9483. ,    14.1,\n",
       "        16051.5],\n",
       "       [    1. ,   612. ,    23.7,   100. ,    80.6,  9033. ,    13.3,\n",
       "        14504.4],\n",
       "       [    1. ,   486. ,    23.2,   117. ,    84.8,  8298. ,    15.9,\n",
       "        11275.2],\n",
       "       [    1. ,   765. ,    23.6,   105. ,    79.2,  9483. ,    13.7,\n",
       "        18054. ],\n",
       "       [    1. ,   793. ,    21.7,   125. ,    78.4,  9483. ,    14.5,\n",
       "        17208.1],\n",
       "       [    1. ,   776. ,    23. ,   110. ,    77.2,  9265. ,    13.6,\n",
       "        17848. ],\n",
       "       [    1. ,   978. ,    19.3,   130. ,    71.5,  9483. ,    15.3,\n",
       "        18875.4],\n",
       "       [    1. ,   792. ,    21.2,   126. ,    82.2, 12656. ,    15.1,\n",
       "        16790.4]])"
      ]
     },
     "execution_count": 13,
     "metadata": {},
     "output_type": "execute_result"
    }
   ],
   "source": [
    "import statsmodels.api as sm\n",
    "data = sm.datasets.scotland.load()\n",
    "data.exog = sm.add_constant(data.exog)\n",
    "\n",
    "data.exog"
   ]
  },
  {
   "cell_type": "code",
   "execution_count": null,
   "metadata": {},
   "outputs": [],
   "source": []
  }
 ],
 "metadata": {
  "kernelspec": {
   "display_name": "Python 3",
   "language": "python",
   "name": "python3"
  },
  "language_info": {
   "codemirror_mode": {
    "name": "ipython",
    "version": 3
   },
   "file_extension": ".py",
   "mimetype": "text/x-python",
   "name": "python",
   "nbconvert_exporter": "python",
   "pygments_lexer": "ipython3",
   "version": "3.6.3"
  }
 },
 "nbformat": 4,
 "nbformat_minor": 2
}
